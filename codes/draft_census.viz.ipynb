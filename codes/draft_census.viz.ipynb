{
 "cells": [
  {
   "cell_type": "code",
   "execution_count": null,
   "outputs": [],
   "source": [
    "import pandas as pd\n",
    "import mysql.connector\n",
    "import seaborn as sns\n",
    "import matplotlib.pyplot as plt\n",
    "from matplotlib import markers"
   ],
   "metadata": {
    "collapsed": false,
    "pycharm": {
     "name": "#%%\n"
    }
   }
  },
  {
   "cell_type": "code",
   "execution_count": null,
   "outputs": [],
   "source": [
    "sns.set_style('whitegrid')\n",
    "all_shapes = list(markers.MarkerStyle.markers.keys())"
   ],
   "metadata": {
    "collapsed": false,
    "pycharm": {
     "name": "#%%\n"
    }
   }
  },
  {
   "cell_type": "markdown",
   "source": [
    "# Connection to Dataset SQL (Localhost)"
   ],
   "metadata": {
    "collapsed": false,
    "pycharm": {
     "name": "#%% md\n"
    }
   }
  },
  {
   "cell_type": "code",
   "execution_count": null,
   "outputs": [],
   "source": [
    "# Connect to database\n",
    "database = mysql.connector.connect(\n",
    "    host=\"localhost\",\n",
    "    user=\"root\",\n",
    "    password=\"c11405i.\",\n",
    "    database=\"c1_capstone_project\"\n",
    ")\n",
    "\n",
    "cursorObject = database.cursor()\n",
    "# Data file"
   ],
   "metadata": {
    "collapsed": false,
    "pycharm": {
     "name": "#%%\n"
    }
   }
  },
  {
   "cell_type": "code",
   "execution_count": null,
   "outputs": [],
   "source": [
    "\n",
    "#database.close()\n",
    "# %%\n",
    "list_states = ['NY', 'CA', 'MA', 'WA', 'PA', 'OH', 'AZ', 'TX', 'OR', 'IL', 'MI', 'CO', 'GA', 'FL']\n",
    "\n",
    "string_name = \",\".join(list_states)\n",
    "\n",
    "query = \"SELECT rcid.*, sr.Abbreviation \"\n",
    "\"FROM rent_cost_income_distribution as rcid \"\n",
    "\"JOIN state_region sr ON rcid.state = sr.state \"\n",
    "\"WHERE sr.Abbreviation IN \"\n",
    "\"('NY', 'CA', 'MA', 'WA', 'PA', 'OH', 'AZ', 'TX', 'OR', 'IL', 'MI', 'CO', 'GA', 'FL')\"\n",
    "\n",
    "cursorObject.execute(query)\n",
    "\n",
    "myresult = cursorObject.fetchall()\n",
    "\n",
    "database.close()\n",
    "column_names = [i[0] for i in cursorObject.description]\n",
    "rent_cost_income_df = pd.DataFrame(myresult, columns=column_names)\n",
    "rent_cost_income_df = rent_cost_income_df.drop(['id', 'state', 'Name'], axis=1)\n",
    "\n",
    "rent_cost_income_df.head()\n",
    "fig, ax = plt.subplots(figsize=(10, 8))\n",
    "\n",
    "_ = sns.barplot(x='Abbreviation', y='Total Renter occupied - by income',\n",
    "                data=rent_cost_income_df[rent_cost_income_df['Year'] == 2015],\n",
    "                ax=ax)\n",
    "ax.set_xlabel('US State', fontsize=12)\n",
    "ax.set_ylabel('Total Number of rental houses', fontsize=12)\n",
    "plt.show()\n",
    "\n",
    "#pd.pivot_table(rent_cost_income_df.loc['2015'], index=['Abbreviation'])\n",
    "\n"
   ],
   "metadata": {
    "collapsed": false,
    "pycharm": {
     "name": "#%%\n"
    }
   }
  }
 ],
 "metadata": {
  "kernelspec": {
   "display_name": "Python 3",
   "language": "python",
   "name": "python3"
  },
  "language_info": {
   "codemirror_mode": {
    "name": "ipython",
    "version": 2
   },
   "file_extension": ".py",
   "mimetype": "text/x-python",
   "name": "python",
   "nbconvert_exporter": "python",
   "pygments_lexer": "ipython2",
   "version": "2.7.6"
  }
 },
 "nbformat": 4,
 "nbformat_minor": 0
}