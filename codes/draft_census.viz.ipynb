{
 "cells": [
  {
   "cell_type": "code",
   "execution_count": 16,
   "outputs": [],
   "source": [
    "import pandas as pd\n",
    "import psycopg2\n",
    "import json\n",
    "import seaborn as sns\n",
    "import matplotlib.pyplot as plt\n",
    "from matplotlib import markers\n",
    "import os"
   ],
   "metadata": {
    "collapsed": false,
    "pycharm": {
     "name": "#%%\n"
    }
   }
  },
  {
   "cell_type": "code",
   "execution_count": 17,
   "outputs": [
    {
     "name": "stdout",
     "output_type": "stream",
     "text": [
      "/Users/aliglara/DataspellProjects/capstone-c1-DA/codes\n"
     ]
    },
    {
     "ename": "FileNotFoundError",
     "evalue": "[Errno 2] No such file or directory: 'credential_keys.json'",
     "output_type": "error",
     "traceback": [
      "\u001B[0;31m---------------------------------------------------------------------------\u001B[0m",
      "\u001B[0;31mFileNotFoundError\u001B[0m                         Traceback (most recent call last)",
      "Input \u001B[0;32mIn [17]\u001B[0m, in \u001B[0;36m<cell line: 6>\u001B[0;34m()\u001B[0m\n\u001B[1;32m      3\u001B[0m \u001B[38;5;28mprint\u001B[39m(os\u001B[38;5;241m.\u001B[39mgetcwd())\n\u001B[1;32m      4\u001B[0m \u001B[38;5;66;03m#/Users/aliglara/Documents/MyGit/apis\u001B[39;00m\n\u001B[1;32m      5\u001B[0m \u001B[38;5;66;03m#/Users/aliglara/Documents/MyGit/Data_training/capstone_c1_DA/codes\u001B[39;00m\n\u001B[0;32m----> 6\u001B[0m f \u001B[38;5;241m=\u001B[39m \u001B[38;5;28;43mopen\u001B[39;49m\u001B[43m(\u001B[49m\u001B[38;5;124;43m'\u001B[39;49m\u001B[38;5;124;43mcredential_keys.json\u001B[39;49m\u001B[38;5;124;43m'\u001B[39;49m\u001B[43m,\u001B[49m\u001B[43m \u001B[49m\u001B[38;5;124;43m\"\u001B[39;49m\u001B[38;5;124;43mr\u001B[39;49m\u001B[38;5;124;43m\"\u001B[39;49m\u001B[43m)\u001B[49m\n\u001B[1;32m      7\u001B[0m keys \u001B[38;5;241m=\u001B[39m json\u001B[38;5;241m.\u001B[39mload(f)\n",
      "\u001B[0;31mFileNotFoundError\u001B[0m: [Errno 2] No such file or directory: 'credential_keys.json'"
     ]
    }
   ],
   "source": [
    "sns.set_style('whitegrid')\n",
    "all_shapes = list(markers.MarkerStyle.markers.keys())\n",
    "print(os.getcwd())\n",
    "f = open('credential_keys.json', \"r\")\n",
    "keys = json.load(f)"
   ],
   "metadata": {
    "collapsed": false,
    "pycharm": {
     "name": "#%%\n"
    }
   }
  },
  {
   "cell_type": "markdown",
   "source": [
    "# Connection to dataset on Heroku"
   ],
   "metadata": {
    "collapsed": false,
    "pycharm": {
     "name": "#%% md\n"
    }
   }
  },
  {
   "cell_type": "code",
   "execution_count": 3,
   "outputs": [
    {
     "ename": "NameError",
     "evalue": "name 'keys' is not defined",
     "output_type": "error",
     "traceback": [
      "\u001B[0;31m---------------------------------------------------------------------------\u001B[0m",
      "\u001B[0;31mNameError\u001B[0m                                 Traceback (most recent call last)",
      "Input \u001B[0;32mIn [3]\u001B[0m, in \u001B[0;36m<cell line: 2>\u001B[0;34m()\u001B[0m\n\u001B[1;32m      1\u001B[0m \u001B[38;5;66;03m# Connect to database\u001B[39;00m\n\u001B[1;32m      2\u001B[0m conn \u001B[38;5;241m=\u001B[39m psycopg2\u001B[38;5;241m.\u001B[39mconnect(\n\u001B[0;32m----> 3\u001B[0m     host\u001B[38;5;241m=\u001B[39m\u001B[43mkeys\u001B[49m[\u001B[38;5;124m'\u001B[39m\u001B[38;5;124mdatabases\u001B[39m\u001B[38;5;124m'\u001B[39m][\u001B[38;5;124m'\u001B[39m\u001B[38;5;124mheroku\u001B[39m\u001B[38;5;124m'\u001B[39m][\u001B[38;5;124m'\u001B[39m\u001B[38;5;124mhost\u001B[39m\u001B[38;5;124m'\u001B[39m],\n\u001B[1;32m      4\u001B[0m     user\u001B[38;5;241m=\u001B[39mkeys[\u001B[38;5;124m'\u001B[39m\u001B[38;5;124mdatabases\u001B[39m\u001B[38;5;124m'\u001B[39m][\u001B[38;5;124m'\u001B[39m\u001B[38;5;124mheroku\u001B[39m\u001B[38;5;124m'\u001B[39m][\u001B[38;5;124m'\u001B[39m\u001B[38;5;124muser\u001B[39m\u001B[38;5;124m'\u001B[39m],\n\u001B[1;32m      5\u001B[0m     password\u001B[38;5;241m=\u001B[39mkeys[\u001B[38;5;124m'\u001B[39m\u001B[38;5;124mdatabases\u001B[39m\u001B[38;5;124m'\u001B[39m][\u001B[38;5;124m'\u001B[39m\u001B[38;5;124mheroku\u001B[39m\u001B[38;5;124m'\u001B[39m][\u001B[38;5;124m'\u001B[39m\u001B[38;5;124mpasssword\u001B[39m\u001B[38;5;124m'\u001B[39m],\n\u001B[1;32m      6\u001B[0m     database\u001B[38;5;241m=\u001B[39mkeys[\u001B[38;5;124m'\u001B[39m\u001B[38;5;124mdatabases\u001B[39m\u001B[38;5;124m'\u001B[39m][\u001B[38;5;124m'\u001B[39m\u001B[38;5;124mheroku\u001B[39m\u001B[38;5;124m'\u001B[39m][\u001B[38;5;124m'\u001B[39m\u001B[38;5;124mdatabase\u001B[39m\u001B[38;5;124m'\u001B[39m],\n\u001B[1;32m      7\u001B[0m     port\u001B[38;5;241m=\u001B[39mkeys[\u001B[38;5;124m'\u001B[39m\u001B[38;5;124mdatabases\u001B[39m\u001B[38;5;124m'\u001B[39m][\u001B[38;5;124m'\u001B[39m\u001B[38;5;124mheroku\u001B[39m\u001B[38;5;124m'\u001B[39m][\u001B[38;5;124m'\u001B[39m\u001B[38;5;124mport\u001B[39m\u001B[38;5;124m'\u001B[39m]\n\u001B[1;32m      8\u001B[0m )\n\u001B[1;32m     10\u001B[0m cursor \u001B[38;5;241m=\u001B[39m conn\u001B[38;5;241m.\u001B[39mcursor()\n",
      "\u001B[0;31mNameError\u001B[0m: name 'keys' is not defined"
     ]
    }
   ],
   "source": [
    "# Connect to database\n",
    "conn = psycopg2.connect(\n",
    "    host=keys['databases']['heroku']['host'],\n",
    "    user=keys['databases']['heroku']['user'],\n",
    "    password=keys['databases']['heroku']['passsword'],\n",
    "    database=keys['databases']['heroku']['database'],\n",
    "    port=keys['databases']['heroku']['port']\n",
    ")\n",
    "\n",
    "cursor = conn.cursor()\n",
    "# Data file"
   ],
   "metadata": {
    "collapsed": false,
    "pycharm": {
     "name": "#%%\n"
    }
   }
  },
  {
   "cell_type": "code",
   "execution_count": null,
   "outputs": [],
   "source": [
    "\n",
    "#database.close()\n",
    "# %%\n",
    "list_states = ['NY', 'CA', 'MA', 'WA', 'PA', 'OH', 'AZ', 'TX', 'OR', 'IL', 'MI', 'CO', 'GA', 'FL']\n",
    "\n",
    "string_name = \",\".join(list_states)\n",
    "\n",
    "query = \"SELECT rcid.*, sr.Abbreviation \"\n",
    "\"FROM rent_cost_income_distribution as rcid \"\n",
    "\"JOIN state_region sr ON rcid.state = sr.state \"\n",
    "\"WHERE sr.Abbreviation IN \"\n",
    "\"('NY', 'CA', 'MA', 'WA', 'PA', 'OH', 'AZ', 'TX', 'OR', 'IL', 'MI', 'CO', 'GA', 'FL')\"\n",
    "\n",
    "cursorObject.execute(query)\n",
    "\n",
    "myresult = cursorObject.fetchall()\n",
    "\n",
    "database.close()\n",
    "column_names = [i[0] for i in cursorObject.description]\n",
    "rent_cost_income_df = pd.DataFrame(myresult, columns=column_names)\n",
    "rent_cost_income_df = rent_cost_income_df.drop(['id', 'state', 'Name'], axis=1)\n",
    "\n",
    "rent_cost_income_df.head()\n",
    "fig, ax = plt.subplots(figsize=(10, 8))\n",
    "\n",
    "_ = sns.barplot(x='Abbreviation', y='Total Renter occupied - by income',\n",
    "                data=rent_cost_income_df[rent_cost_income_df['Year'] == 2015],\n",
    "                ax=ax)\n",
    "ax.set_xlabel('US State', fontsize=12)\n",
    "ax.set_ylabel('Total Number of rental houses', fontsize=12)\n",
    "plt.show()\n",
    "\n",
    "#pd.pivot_table(rent_cost_income_df.loc['2015'], index=['Abbreviation'])"
   ],
   "metadata": {
    "collapsed": false,
    "pycharm": {
     "name": "#%%\n"
    }
   }
  }
 ],
 "metadata": {
  "kernelspec": {
   "display_name": "Python 3",
   "language": "python",
   "name": "python3"
  },
  "language_info": {
   "codemirror_mode": {
    "name": "ipython",
    "version": 2
   },
   "file_extension": ".py",
   "mimetype": "text/x-python",
   "name": "python",
   "nbconvert_exporter": "python",
   "pygments_lexer": "ipython2",
   "version": "2.7.6"
  }
 },
 "nbformat": 4,
 "nbformat_minor": 0
}