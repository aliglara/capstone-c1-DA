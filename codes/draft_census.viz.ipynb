{
 "cells": [
  {
   "cell_type": "code",
   "execution_count": 1,
   "outputs": [],
   "source": [
    "import pandas as pd\n",
    "import psycopg2\n",
    "import json\n",
    "import seaborn as sns\n",
    "import matplotlib.pyplot as plt\n",
    "from matplotlib import markers"
   ],
   "metadata": {
    "collapsed": false,
    "pycharm": {
     "name": "#%%\n"
    }
   }
  },
  {
   "cell_type": "code",
   "execution_count": 2,
   "outputs": [],
   "source": [
    "sns.set_style('whitegrid')\n",
    "all_shapes = list(markers.MarkerStyle.markers.keys())\n",
    "f = open('/Users/aliglara/Documents/MyGit/apis/credential_keys.json', \"r\")\n",
    "keys = json.load(f)"
   ],
   "metadata": {
    "collapsed": false,
    "pycharm": {
     "name": "#%%\n"
    }
   }
  },
  {
   "cell_type": "markdown",
   "source": [
    "# Connection to dataset on Heroku"
   ],
   "metadata": {
    "collapsed": false,
    "pycharm": {
     "name": "#%% md\n"
    }
   }
  },
  {
   "cell_type": "code",
   "execution_count": 3,
   "outputs": [],
   "source": [
    "def connect_database(server, project, credentials):\n",
    "    conn = psycopg2.connect(\n",
    "        host=credentials['databases'][server][project]['host'],\n",
    "        user=credentials['databases'][server][project]['user'],\n",
    "        password=credentials['databases'][server][project]['password'],\n",
    "        database=credentials['databases'][server][project]['database'],\n",
    "        port=credentials['databases'][server][project]['port']\n",
    "    )\n",
    "    return conn.cursor()"
   ],
   "metadata": {
    "collapsed": false,
    "pycharm": {
     "name": "#%%\n"
    }
   }
  },
  {
   "cell_type": "code",
   "execution_count": 6,
   "outputs": [],
   "source": [
    "\n",
    "#database.close()\n",
    "# %%\n",
    "list_states = ['NY', 'CA', 'MA', 'WA', 'PA', 'OH', 'AZ', 'TX', 'OR', 'IL', 'MI', 'CO', 'GA', 'FL']\n",
    "\n",
    "string_name = \",\".join(list_states)\n",
    "\n",
    "query = (\"SELECT robi.*, sr.abbreviation \"\n",
    "         \"FROM rent_occupied_by_income as robi \"\n",
    "         \"JOIN state_region sr ON robi.id_state = sr.state \"\n",
    "         \"WHERE sr.abbreviation IN \"\n",
    "         \"('NY', 'CA', 'MA', 'WA', 'PA', 'OH', 'AZ', 'TX', 'OR', 'IL', 'MI', 'CO', 'GA', 'FL')\")"
   ],
   "metadata": {
    "collapsed": false,
    "pycharm": {
     "name": "#%%\n"
    }
   }
  },
  {
   "cell_type": "code",
   "execution_count": 8,
   "outputs": [],
   "source": [
    "\n",
    "cursor = connect_database(\"heroku\", \"c1_capstone\", keys)\n",
    "cursor.execute(query)\n",
    "\n",
    "myresult = cursor.fetchall()\n",
    "\n",
    "cursor.close()\n",
    "column_names = [i[0] for i in cursor.description]\n",
    "rent_cost_income_df = pd.DataFrame(myresult, columns=column_names)\n",
    "#rent_cost_income_df = rent_cost_income_df.drop(['id', 'state', 'Name'], axis=1)"
   ],
   "metadata": {
    "collapsed": false,
    "pycharm": {
     "name": "#%%\n"
    }
   }
  },
  {
   "cell_type": "code",
   "execution_count": 9,
   "outputs": [
    {
     "data": {
      "text/plain": "     id  year    name_state  less_than_r5000  r5000_to_r9999  \\\n0     9  2015      New York           203410          253643   \n1    12  2015          Ohio           117215          139631   \n2    14  2015        Oregon            32209           41893   \n3    15  2015  Pennsylvania            93232          125261   \n4    20  2015         Texas           194963          218038   \n..  ...   ...           ...              ...             ...   \n85  285  2020         Texas           193418          184862   \n86  288  2020          Ohio            99082          116293   \n87  289  2020      Colorado            30144           28160   \n88  296  2020    Washington            40998           44458   \n89  302  2020      Michigan            71556           84200   \n\n    r10000_to_r14999  r15000_to_r19999  r20000_to_r24999  r25000_to_r34999  \\\n0             275686            243069            214353            369940   \n1             154696            143831            129371            228646   \n2              48218             47915             46979             82908   \n3             143444            133714            117588            206567   \n4             258383            268064            279914            503234   \n..               ...               ...               ...               ...   \n85            223591            224888            235369            464296   \n86            132465            123037            121083            212852   \n87             40104             38106             40976             77651   \n88             58210             52070             56737            105126   \n89             93630             85840             85276            155170   \n\n    r35000_to_r49999  r50000_to_r74999  r75000_to_r99999  r100000_to_r149999  \\\n0             435593            528287            310475              304390   \n1             235353            245058            108598               65339   \n2              97386            103321             49847               36362   \n3             230961            247278            121478               86449   \n4             593581            645289            332113              245359   \n..               ...               ...               ...                 ...   \n85            585999            713123            388891              343101   \n86            250741            268085            134932               93271   \n87            107303            147626             87087               81668   \n88            154729            202831            128310              132307   \n89            171317            185456             93399               67610   \n\n    r150000_or_more  id_state abbreviation  \n0            255946        36           NY  \n1             25824        39           OH  \n2             17276        41           OR  \n3             44309        42           PA  \n4            129648        48           TX  \n..              ...       ...          ...  \n85           179724        48           TX  \n86            37213        39           OH  \n87            43253         8           CO  \n88            91987        53           WA  \n89            31469        26           MI  \n\n[90 rows x 16 columns]",
      "text/html": "<div>\n<style scoped>\n    .dataframe tbody tr th:only-of-type {\n        vertical-align: middle;\n    }\n\n    .dataframe tbody tr th {\n        vertical-align: top;\n    }\n\n    .dataframe thead th {\n        text-align: right;\n    }\n</style>\n<table border=\"1\" class=\"dataframe\">\n  <thead>\n    <tr style=\"text-align: right;\">\n      <th></th>\n      <th>id</th>\n      <th>year</th>\n      <th>name_state</th>\n      <th>less_than_r5000</th>\n      <th>r5000_to_r9999</th>\n      <th>r10000_to_r14999</th>\n      <th>r15000_to_r19999</th>\n      <th>r20000_to_r24999</th>\n      <th>r25000_to_r34999</th>\n      <th>r35000_to_r49999</th>\n      <th>r50000_to_r74999</th>\n      <th>r75000_to_r99999</th>\n      <th>r100000_to_r149999</th>\n      <th>r150000_or_more</th>\n      <th>id_state</th>\n      <th>abbreviation</th>\n    </tr>\n  </thead>\n  <tbody>\n    <tr>\n      <th>0</th>\n      <td>9</td>\n      <td>2015</td>\n      <td>New York</td>\n      <td>203410</td>\n      <td>253643</td>\n      <td>275686</td>\n      <td>243069</td>\n      <td>214353</td>\n      <td>369940</td>\n      <td>435593</td>\n      <td>528287</td>\n      <td>310475</td>\n      <td>304390</td>\n      <td>255946</td>\n      <td>36</td>\n      <td>NY</td>\n    </tr>\n    <tr>\n      <th>1</th>\n      <td>12</td>\n      <td>2015</td>\n      <td>Ohio</td>\n      <td>117215</td>\n      <td>139631</td>\n      <td>154696</td>\n      <td>143831</td>\n      <td>129371</td>\n      <td>228646</td>\n      <td>235353</td>\n      <td>245058</td>\n      <td>108598</td>\n      <td>65339</td>\n      <td>25824</td>\n      <td>39</td>\n      <td>OH</td>\n    </tr>\n    <tr>\n      <th>2</th>\n      <td>14</td>\n      <td>2015</td>\n      <td>Oregon</td>\n      <td>32209</td>\n      <td>41893</td>\n      <td>48218</td>\n      <td>47915</td>\n      <td>46979</td>\n      <td>82908</td>\n      <td>97386</td>\n      <td>103321</td>\n      <td>49847</td>\n      <td>36362</td>\n      <td>17276</td>\n      <td>41</td>\n      <td>OR</td>\n    </tr>\n    <tr>\n      <th>3</th>\n      <td>15</td>\n      <td>2015</td>\n      <td>Pennsylvania</td>\n      <td>93232</td>\n      <td>125261</td>\n      <td>143444</td>\n      <td>133714</td>\n      <td>117588</td>\n      <td>206567</td>\n      <td>230961</td>\n      <td>247278</td>\n      <td>121478</td>\n      <td>86449</td>\n      <td>44309</td>\n      <td>42</td>\n      <td>PA</td>\n    </tr>\n    <tr>\n      <th>4</th>\n      <td>20</td>\n      <td>2015</td>\n      <td>Texas</td>\n      <td>194963</td>\n      <td>218038</td>\n      <td>258383</td>\n      <td>268064</td>\n      <td>279914</td>\n      <td>503234</td>\n      <td>593581</td>\n      <td>645289</td>\n      <td>332113</td>\n      <td>245359</td>\n      <td>129648</td>\n      <td>48</td>\n      <td>TX</td>\n    </tr>\n    <tr>\n      <th>...</th>\n      <td>...</td>\n      <td>...</td>\n      <td>...</td>\n      <td>...</td>\n      <td>...</td>\n      <td>...</td>\n      <td>...</td>\n      <td>...</td>\n      <td>...</td>\n      <td>...</td>\n      <td>...</td>\n      <td>...</td>\n      <td>...</td>\n      <td>...</td>\n      <td>...</td>\n      <td>...</td>\n    </tr>\n    <tr>\n      <th>85</th>\n      <td>285</td>\n      <td>2020</td>\n      <td>Texas</td>\n      <td>193418</td>\n      <td>184862</td>\n      <td>223591</td>\n      <td>224888</td>\n      <td>235369</td>\n      <td>464296</td>\n      <td>585999</td>\n      <td>713123</td>\n      <td>388891</td>\n      <td>343101</td>\n      <td>179724</td>\n      <td>48</td>\n      <td>TX</td>\n    </tr>\n    <tr>\n      <th>86</th>\n      <td>288</td>\n      <td>2020</td>\n      <td>Ohio</td>\n      <td>99082</td>\n      <td>116293</td>\n      <td>132465</td>\n      <td>123037</td>\n      <td>121083</td>\n      <td>212852</td>\n      <td>250741</td>\n      <td>268085</td>\n      <td>134932</td>\n      <td>93271</td>\n      <td>37213</td>\n      <td>39</td>\n      <td>OH</td>\n    </tr>\n    <tr>\n      <th>87</th>\n      <td>289</td>\n      <td>2020</td>\n      <td>Colorado</td>\n      <td>30144</td>\n      <td>28160</td>\n      <td>40104</td>\n      <td>38106</td>\n      <td>40976</td>\n      <td>77651</td>\n      <td>107303</td>\n      <td>147626</td>\n      <td>87087</td>\n      <td>81668</td>\n      <td>43253</td>\n      <td>8</td>\n      <td>CO</td>\n    </tr>\n    <tr>\n      <th>88</th>\n      <td>296</td>\n      <td>2020</td>\n      <td>Washington</td>\n      <td>40998</td>\n      <td>44458</td>\n      <td>58210</td>\n      <td>52070</td>\n      <td>56737</td>\n      <td>105126</td>\n      <td>154729</td>\n      <td>202831</td>\n      <td>128310</td>\n      <td>132307</td>\n      <td>91987</td>\n      <td>53</td>\n      <td>WA</td>\n    </tr>\n    <tr>\n      <th>89</th>\n      <td>302</td>\n      <td>2020</td>\n      <td>Michigan</td>\n      <td>71556</td>\n      <td>84200</td>\n      <td>93630</td>\n      <td>85840</td>\n      <td>85276</td>\n      <td>155170</td>\n      <td>171317</td>\n      <td>185456</td>\n      <td>93399</td>\n      <td>67610</td>\n      <td>31469</td>\n      <td>26</td>\n      <td>MI</td>\n    </tr>\n  </tbody>\n</table>\n<p>90 rows × 16 columns</p>\n</div>"
     },
     "execution_count": 9,
     "metadata": {},
     "output_type": "execute_result"
    }
   ],
   "source": [
    "rent_cost_income_df"
   ],
   "metadata": {
    "collapsed": false,
    "pycharm": {
     "name": "#%%\n"
    }
   }
  },
  {
   "cell_type": "code",
   "execution_count": null,
   "outputs": [],
   "source": [
    "\n",
    "rent_cost_income_df.head()\n",
    "fig, ax = plt.subplots(figsize=(10, 8))\n",
    "\n",
    "_ = sns.barplot(x='Abbreviation', y='Total Renter occupied - by income',\n",
    "                data=rent_cost_income_df[rent_cost_income_df['Year'] == 2015],\n",
    "                ax=ax)\n",
    "ax.set_xlabel('US State', fontsize=12)\n",
    "ax.set_ylabel('Total Number of rental houses', fontsize=12)\n",
    "plt.show()\n",
    "\n",
    "#pd.pivot_table(rent_cost_income_df.loc['2015'], index=['Abbreviation'])"
   ],
   "metadata": {
    "collapsed": false,
    "pycharm": {
     "name": "#%%\n"
    }
   }
  }
 ],
 "metadata": {
  "kernelspec": {
   "name": "conda-root-py",
   "language": "python",
   "display_name": "Python [conda env:root] *"
  },
  "language_info": {
   "codemirror_mode": {
    "name": "ipython",
    "version": 2
   },
   "file_extension": ".py",
   "mimetype": "text/x-python",
   "name": "python",
   "nbconvert_exporter": "python",
   "pygments_lexer": "ipython2",
   "version": "2.7.6"
  }
 },
 "nbformat": 4,
 "nbformat_minor": 0
}